{
  "cells": [
    {
      "cell_type": "code",
      "execution_count": 2,
      "metadata": {
        "id": "ubp9ZF1mmt9N"
      },
      "outputs": [],
      "source": [
        "import numpy as np\n",
        "import math\n",
        "import random\n",
        "# from keras.datasets import mnist"
      ]
    },
    {
      "cell_type": "markdown",
      "metadata": {
        "id": "bv9mrPYLyMBD"
      },
      "source": [
        "--------------------------\n",
        "##**Plain version**\n",
        "--------------------------"
      ]
    },
    {
      "cell_type": "markdown",
      "metadata": {
        "id": "MYhR1BXvx8Fv"
      },
      "source": [
        "-------------------------------------\n",
        "Load Data and Preprocess\n",
        "-------------------------------------"
      ]
    },
    {
      "cell_type": "code",
      "execution_count": 30,
      "metadata": {
        "colab": {
          "base_uri": "https://localhost:8080/"
        },
        "id": "8WnimcvQyAxU",
        "outputId": "bfdc532c-1204-426c-95cd-1e6e85dd5de7"
      },
      "outputs": [
        {
          "name": "stdout",
          "output_type": "stream",
          "text": [
            "[  0.     0.     0.     0.     0.     0.     0.     0.     0.     0.\n",
            "   0.     0.     0.     0.     0.     0.     0.     0.     0.     0.\n",
            "   0.     0.     0.     0.     0.     0.     0.     0.     0.     0.\n",
            "   0.     0.     0.     9.5   37.   127.   126.5  126.5   45.     0.\n",
            "   0.     0.     0.     0.     0.     0.    55.25 216.75 245.5  252.5\n",
            " 252.   252.   228.5   18.25   0.     0.     0.     0.     0.     0.\n",
            "  28.25 140.5   96.5   66.25  83.75 245.5  232.    16.5    0.     0.\n",
            "   0.     0.     0.     0.     0.     0.     0.     0.    90.5  249.75\n",
            " 165.5    0.     0.     0.     0.     0.     0.     0.     8.    79.5\n",
            "  96.5  202.   250.75 211.    60.25   0.     0.     0.     0.     0.\n",
            "   0.     0.   133.75 252.5  252.5  253.25 252.5  126.     0.     0.\n",
            "   0.     0.     0.     0.     0.     0.     7.75  43.75  22.    22.\n",
            " 165.5  163.     0.     0.     0.     0.     0.     0.     0.    20.\n",
            "   2.25   0.     0.    24.5  208.   163.     0.     0.     0.     0.\n",
            "   0.     0.    67.25 234.75  77.5   67.    88.75 209.   236.    97.75\n",
            "   0.     0.     0.     0.     0.     0.    64.25 228.25 252.   252.\n",
            " 232.   168.5   40.25   0.     0.     0.     0.     0.     0.     0.\n",
            "   0.    27.5  121.75  68.75   6.     0.     0.     0.     0.     0.\n",
            "   0.     0.     0.     0.     0.     0.     0.     0.     0.     0.\n",
            "   0.     0.     0.     0.     0.     0.  ]\n"
          ]
        }
      ],
      "source": [
        "# (x_train, y_train), (x_test, y_test) = mnist.load_data()\n",
        "\n",
        "\n",
        "# ## dataset of 3 and 8\n",
        "# x_train = [x_train[i] for i in range(len(x_train)) if y_train[i] == 3 or y_train[i] == 8]\n",
        "# y_train = [y for y in y_train if y == 3 or y == 8]\n",
        "# x_test = [x_test[i] for i in range(len(x_test)) if y_test[i] == 3 or y_test[i] == 8]\n",
        "# y_test = [y for y in y_test if y == 3 or y == 8]\n",
        "\n",
        "# ## downsample to 14*14 and divide by 256\n",
        "# downsampled_x_train = np.zeros((len(x_train), 14, 14), dtype=np.float64)\n",
        "# downsampled_x_test = np.zeros((len(x_test), 14, 14), dtype=np.float64)\n",
        "\n",
        "# for x in range(len(x_train)):\n",
        "#   for i in range(14):\n",
        "#     for j in range(14):\n",
        "#       downsampled_x_train[x][i][j] = (int(x_train[x][2*i][2*j]) + int(x_train[x][2*i][2*j + 1]) \n",
        "#                                       + int(x_train[x][2*i + 1][2*j]) + int(x_train[x][2*i + 1][2*j + 1])) / 4\n",
        "    \n",
        "# for x in range(len(x_test)):\n",
        "#   for i in range(14):\n",
        "#     for j in range(14):\n",
        "#       downsampled_x_test[x][i][j] = (int(x_test[x][2*i][2*j]) + int(x_test[x][2*i][2*j + 1]) \n",
        "#                                       + int(x_test[x][2*i + 1][2*j]) + int(x_test[x][2*i + 1][2*j + 1])) / 4\n",
        "\n",
        "# ## flatten data : (num_data, 14, 14) => (num_data, 196)\n",
        "# x_train = downsampled_x_train.reshape(-1, 196)\n",
        "# x_test = downsampled_x_test.reshape(-1, 196)\n",
        "\n",
        "# ## normalize\n",
        "# x_train = np.array([x / max(x) for x in x_train])\n",
        "# x_test = np.array([x / max(x) for x in x_test])\n",
        "\n",
        "# ## map label 3 => -1 and 8 => 1\n",
        "# y_train = [-1 if y==3 else 1 for y in y_train]\n",
        "# y_test = [-1 if y==3 else 1 for y in y_test]\n",
        "# print(x_train[0])"
      ]
    },
    {
      "cell_type": "code",
      "execution_count": 3,
      "metadata": {
        "colab": {
          "base_uri": "https://localhost:8080/"
        },
        "id": "wOFvNIao4XPa",
        "outputId": "b8ecbc0e-bf79-4b62-cd2f-53bf6b1e2e0d"
      },
      "outputs": [
        {
          "name": "stdout",
          "output_type": "stream",
          "text": [
            "(11982, 196)\n",
            "(1984, 196)\n"
          ]
        }
      ],
      "source": [
        "# print(x_train.shape)   # (11982, 196)\n",
        "# print(x_test.shape)   # (1984, 196)"
      ]
    },
    {
      "cell_type": "markdown",
      "metadata": {
        "id": "xLdCEJPOq1J3"
      },
      "source": [
        "-------------------------------------\n",
        "Define sigmoid\n",
        "-------------------------------------"
      ]
    },
    {
      "cell_type": "code",
      "execution_count": 3,
      "metadata": {
        "colab": {
          "base_uri": "https://localhost:8080/",
          "height": 430
        },
        "id": "wGZjz-W7YvdI",
        "outputId": "30753149-05fa-489f-85fe-31419610938c"
      },
      "outputs": [
        {
          "data": {
            "image/png": "[encoded data removed]",
            "text/plain": [
              "<Figure size 640x480 with 1 Axes>"
            ]
          },
          "metadata": {},
          "output_type": "display_data"
        }
      ],
      "source": [
        "## check sigmoid approximation\n",
        "def sigmoid(x):\n",
        "  return 1 / (1 + math.exp(-x))\n",
        "\n",
        "def sigmoid_approx(x):\n",
        "  ## sigmoid approximation for interval [-8, 8]\n",
        "  # c0 = 0.5\n",
        "  # c1 = 0.15\n",
        "  # c3 = -0.0015\n",
        "\n",
        "  # ## sigmoid approximation for interval [-16, 16]\n",
        "  c0 = 0.5 \n",
        "  c1 = -0.0843\n",
        "  c3 = 0.0002\n",
        "\n",
        "  return c3 * pow(-x, 3) - c1 * x + c0\n",
        "\n",
        "x = np.arange(-16, 16, 0.01)\n",
        "y1 = [sigmoid(x_i) for x_i in x]\n",
        "y2 = [sigmoid_approx(x_i) for x_i in x]\n",
        "\n",
        "import matplotlib.pyplot as plt\n",
        "plt.plot(x, y1, label='real sigmoid')\n",
        "plt.plot(x, y2, label='approx sigmoid')\n",
        "plt.legend()\n",
        "plt.show()"
      ]
    },
    {
      "cell_type": "markdown",
      "metadata": {
        "id": "WgEMvzW007wZ"
      },
      "source": [
        "-------------------------------------\n",
        "Train and Test\n",
        "-------------------------------------"
      ]
    },
    {
      "cell_type": "code",
      "execution_count": 5,
      "metadata": {
        "id": "xJn1NNZOVgJQ"
      },
      "outputs": [],
      "source": [
        "def train(x_train, y_train, block_size, learning_rate, num_iter, sigmoid):\n",
        "  v = np.zeros((196 + 1), dtype=np.float64)\n",
        "  w = np.zeros((196 + 1), dtype=np.float64)\n",
        "\n",
        "  Z = np.column_stack((np.ones(len(x_train)), x_train))\n",
        "  Z = [y_train[i] * Z[i] for i in range(len(x_train))]    # y_i, y_i * z_{i,1}, ..., y_i * z_{i,f}   \n",
        "\n",
        "  alpha0 = 0.01\n",
        "  alpha1 = (1 + math.sqrt(1 + 4 * alpha0 * alpha0)) / 2\n",
        "\n",
        "  gamma = learning_rate / block_size\n",
        "\n",
        "  for iter in range(num_iter):\n",
        "    print(f'Iteration {iter + 1}')\n",
        "    \n",
        "    eta = (1 - alpha0) / alpha1\n",
        "\n",
        "    # random.shuffle(Z)\n",
        "    batch_Z = Z[:block_size]\n",
        "\n",
        "    new_w = v + gamma * np.sum([sigmoid(-sum(z * w))*z for z in batch_Z], axis=0)\n",
        "    new_v = (1 - eta) * new_w + eta * w\n",
        "\n",
        "    ## update\n",
        "    w = new_w\n",
        "    v = new_v\n",
        "    alpha0 = alpha1\n",
        "    alpha1 = (1 + math.sqrt(1 + 4 * alpha0 * alpha0)) / 2\n",
        "\n",
        "  return w"
      ]
    },
    {
      "cell_type": "code",
      "execution_count": 6,
      "metadata": {
        "colab": {
          "base_uri": "https://localhost:8080/"
        },
        "id": "SkjqxVREk2rH",
        "outputId": "7e877235-a97f-4ada-d88f-76b7276573a9"
      },
      "outputs": [
        {
          "name": "stdout",
          "output_type": "stream",
          "text": [
            "0.9899010197950513\n",
            "-6.179380420078468e-05\n",
            "-0.28178332043515025\n",
            "-0.4340607063111451\n",
            "-0.5310758788064387\n",
            "-0.5987873196807789\n",
            "-0.6489299451155528\n",
            "-0.6876510564747608\n",
            "-0.7185040554028598\n",
            "-0.7436945144575158\n"
          ]
        }
      ],
      "source": [
        "alpha0 = 0.01\n",
        "alpha1 = (1 + math.sqrt(1 + 4 * alpha0 * alpha0)) / 2\n",
        "\n",
        "for i in range(10):\n",
        "  eta = (1 - alpha0) / alpha1\n",
        "  print(eta)\n",
        "  alpha0 = alpha1\n",
        "  alpha1 = (1 + math.sqrt(1 + 4 * alpha0 * alpha0)) / 2"
      ]
    },
    {
      "cell_type": "code",
      "execution_count": 26,
      "metadata": {
        "id": "GOcfUaye1BRn"
      },
      "outputs": [],
      "source": [
        "def test(x_test, y_test, w, sigmoid):\n",
        "  correct = 0\n",
        "  for i in range(len(x_test)):\n",
        "    inner_prod = (sum(np.append([1], x_test[i]) * w))\n",
        "\n",
        "    result = sigmoid(inner_prod)\n",
        "    if result >= 0.5 and y_test[i] == 1:\n",
        "      correct += 1\n",
        "    elif result < 0.5 and y_test[i] == -1:\n",
        "      correct += 1\n",
        "\n",
        "  accuracy = correct / len(x_test)\n",
        "\n",
        "  return accuracy"
      ]
    },
    {
      "cell_type": "code",
      "execution_count": 27,
      "metadata": {
        "colab": {
          "base_uri": "https://localhost:8080/"
        },
        "id": "Ol20Z8N4QaeY",
        "outputId": "28971ce2-121a-40a8-ebaa-2dfc99f63844"
      },
      "outputs": [
        {
          "ename": "TypeError",
          "evalue": "'numpy.ndarray' object is not callable",
          "output_type": "error",
          "traceback": [
            "\u001b[0;31m---------------------------------------------------------------------------\u001b[0m",
            "\u001b[0;31mTypeError\u001b[0m                                 Traceback (most recent call last)",
            "Cell \u001b[0;32mIn[27], line 7\u001b[0m\n\u001b[1;32m      4\u001b[0m num_iter \u001b[39m=\u001b[39m \u001b[39m32\u001b[39m\n\u001b[1;32m      6\u001b[0m \u001b[39m## test and train\u001b[39;00m\n\u001b[0;32m----> 7\u001b[0m w \u001b[39m=\u001b[39m train(x_train, y_train, block_size, learning_rate, num_iter, sigmoid)\n\u001b[1;32m      8\u001b[0m accuracy \u001b[39m=\u001b[39m test(x_test, y_test, w, sigmoid)\n\u001b[1;32m     10\u001b[0m \u001b[39m## test and train with sigmoid approximation\u001b[39;00m\n",
            "\u001b[0;31mTypeError\u001b[0m: 'numpy.ndarray' object is not callable"
          ]
        }
      ],
      "source": [
        "## parameters\n",
        "learning_rate = 1\n",
        "block_size = 1024\n",
        "num_iter = 32\n",
        "\n",
        "## test and train\n",
        "w = train(x_train, y_train, block_size, learning_rate, num_iter, sigmoid)\n",
        "accuracy = test(x_test, y_test, w, sigmoid)\n",
        "\n",
        "## test and train with sigmoid approximation\n",
        "w_approx = train(x_train, y_train, block_size, learning_rate, num_iter, sigmoid_approx)\n",
        "accuracy_approx = test(x_test, y_test, w_approx, sigmoid_approx)\n",
        "\n",
        "print()\n",
        "print(f'Iteration                       : {num_iter}')\n",
        "print(f'Accuracy                        : {accuracy}')\n",
        "print(f'Accuracy (sigmoid approximation): {accuracy_approx}')"
      ]
    },
    {
      "cell_type": "markdown",
      "metadata": {
        "id": "mGbeyYRywOBv"
      },
      "source": [
        "--------------------------\n",
        "##**HE version**\n",
        "--------------------------"
      ]
    },
    {
      "cell_type": "code",
      "execution_count": 10,
      "metadata": {
        "id": "jXaJ-Iz6jEle"
      },
      "outputs": [],
      "source": [
        "# def he_batch_train(x_train, y_train, block_size, learning_rate, num_iter):\n",
        "\n",
        "#   Z = np.column_stack((np.ones(len(x_train)), x_train))\n",
        "#   Z = [y_train[i] * Z[i] for i in range(len(x_train))]    # y_i, y_i * z_{i,1}, ..., y_i * z_{i,f}   \n",
        "#   Z = np.array(Z[:block_size])\n",
        "\n",
        "#   num_slot = 32768\n",
        "#   num_ct_per_batch = 7\n",
        "#   num_feature_per_batch = 32\n",
        "\n",
        "#   Z_ct = []\n",
        "#   ct = np.zeros((32768))\n",
        "#   for i in range(num_ct_per_batch):\n",
        "#     for j in range(block_size):\n",
        "#       for k in range(num_feature_per_batch):\n",
        "#         if i*num_feature_per_batch + k > 196:\n",
        "#           ct[j * num_feature_per_batch + k] = 0\n",
        "#         else:\n",
        "#           ct[j * num_feature_per_batch + k] = Z[j][i*num_feature_per_batch + k]\n",
        "#     Z_ct.append(msg)\n",
        "\n",
        "#   V = np.zeros((num_ct_per_batch, block_size, 196 + 1), dtype=np.float64)\n",
        "#   W = np.zeros((num_ct_per_batch, block_size, 196 + 1), dtype=np.float64)\n",
        "\n",
        "#   c0 = 0.5 \n",
        "#   c1 = -0.0843\n",
        "#   c3 = 0.0002\n",
        "  \n",
        "#   alpha0 = 0.01\n",
        "#   alpha1 = (1 + math.sqrt(1 + 4 * alpha0 * alpha0)) / 2\n",
        "\n",
        "#   gamma = learning_rate / block_size\n",
        "\n",
        "#   for iter in range(num_iter):\n",
        "#     print(f'Iteration {iter + 1}')\n",
        "\n",
        "#     eta = (1 - alpha0) / alpha1\n",
        "    \n",
        "#     M = []\n",
        "#     for i in range(num_ct_per_batch):\n",
        "#       ## Mi = Zi * Vi\n",
        "#       M.append(Z[i]*V[i])\n",
        "#       ## Mi = SumColVec(Mi)\n",
        "#       for j in range(block_size):\n",
        "#         inner_sum = sum(M[i][j * num_feature_per_batch : (j + 1) * num_feature_per_batch])\n",
        "#         for k in range(num_feature_per_batch):\n",
        "#           M[i][j * num_feature_per_batch + k] = inner_sum\n",
        "    \n",
        "#     ## M = Sum(Mi)\n",
        "#     ## M2 = M * M\n",
        "#     ## M2 = M2 + c1/c3\n",
        "\n",
        "#     for i in range(num_ct_per_batch):\n",
        "#       ## Z1 = gamma * c0 * Zi\n",
        "#       ## Z3 = gamma * c3 * Zi\n",
        "#       ## M1 = M * Z3\n",
        "#       ## G = M1 * M2 + Z1\n",
        "#       ## \n",
        "  \n",
        "#     ## depth 1\n",
        "#     M = Z * V\n",
        "#     Z1 = gamma * c0 * Z\n",
        "#     Z3 = gamma * c3 * Z\n",
        "\n",
        "#     ## depth 2\n",
        "#     ## M = SumColVec(M)\n",
        "#     for i in range(block_size):\n",
        "#       inner_sum = sum(M[i])\n",
        "#       for j in range(len(M[i])):\n",
        "#         M[i][j] = inner_sum\n",
        "\n",
        "#     ## depth 3\n",
        "#     M1 = M * Z3\n",
        "#     M2 = M*M + c1/c3\n",
        "\n",
        "#     ## depth 4\n",
        "#     G = M1 * M2 + Z1\n",
        "#     ## new_W = V + SumRowVec(G)\n",
        "#     sum_row = np.zeros(196 + 1, dtype=np.float64)\n",
        "#     for i in range(block_size):\n",
        "#       sum_row = sum_row + G[i]\n",
        "#     for i in range(block_size):\n",
        "#       G[i] = sum_row\n",
        "#     new_W = V + G\n",
        "\n",
        "#     ## depth 5\n",
        "#     new_V = (1 - eta) * new_W + eta * W\n",
        "\n",
        "#     ## update\n",
        "#     W = new_W\n",
        "#     V = new_V\n",
        "#     alpha0 = alpha1\n",
        "#     alpha1 = (1 + math.sqrt(1 + 4 * alpha0 * alpha0)) / 2\n",
        "\n",
        "#   return W[0]"
      ]
    },
    {
      "cell_type": "code",
      "execution_count": 4,
      "metadata": {
        "id": "zIGLcz1IZxGS"
      },
      "outputs": [],
      "source": [
        "def he_train(x_train, y_train, block_size, learning_rate, num_iter):\n",
        "  V = np.zeros((block_size, 196 + 1), dtype=np.float64)\n",
        "  W = np.zeros((block_size, 196 + 1), dtype=np.float64)\n",
        "\n",
        "  Z = np.column_stack((np.ones(len(x_train)), x_train))\n",
        "  Z = [y_train[i] * Z[i] for i in range(len(x_train))]    # y_i, y_i * z_{i,1}, ..., y_i * z_{i,f}   \n",
        "  Z = np.array(Z[:block_size])\n",
        "\n",
        "  c0 = 0.5 \n",
        "  c1 = -0.0843\n",
        "  c3 = 0.0002\n",
        "  \n",
        "  alpha0 = 0.01\n",
        "  alpha1 = (1 + math.sqrt(1 + 4 * alpha0 * alpha0)) / 2\n",
        "\n",
        "  gamma = learning_rate / block_size\n",
        "\n",
        "  for iter in range(num_iter):\n",
        "    print(f'Iteration {iter + 1}')\n",
        "\n",
        "    eta = (1 - alpha0) / alpha1\n",
        "    \n",
        "    ## depth 1\n",
        "    M = Z * V\n",
        "    Z1 = gamma * c0 * Z\n",
        "    Z3 = gamma * c3 * Z\n",
        "\n",
        "    ## depth 2\n",
        "    ## M = SumColVec(M)\n",
        "    for i in range(block_size):\n",
        "      inner_sum = sum(M[i])\n",
        "      for j in range(len(M[i])):\n",
        "        M[i][j] = inner_sum\n",
        "\n",
        "    ## depth 3\n",
        "    M1 = M * Z3\n",
        "    M2 = M*M + c1/c3\n",
        "    # print(M2[0][0])\n",
        "\n",
        "    ## depth 4\n",
        "    G = M1 * M2 + Z1\n",
        "    ## new_W = V + SumRowVec(G)\n",
        "    sum_row = np.zeros(196 + 1, dtype=np.float64)\n",
        "    for i in range(block_size):\n",
        "      sum_row = sum_row + G[i]\n",
        "    for i in range(block_size):\n",
        "      G[i] = sum_row\n",
        "    new_W = V + G\n",
        "\n",
        "    ## depth 5\n",
        "    new_V = (1 - eta) * new_W + eta * W\n",
        "\n",
        "    ## update\n",
        "    W = new_W\n",
        "    V = new_V\n",
        "    alpha0 = alpha1\n",
        "    alpha1 = (1 + math.sqrt(1 + 4 * alpha0 * alpha0)) / 2\n",
        "\n",
        "  return W[0]"
      ]
    },
    {
      "cell_type": "code",
      "execution_count": 5,
      "metadata": {
        "id": "U5RMl_1xoq1g"
      },
      "outputs": [],
      "source": [
        "def he_test(x_test, y_test, w, sigmoid):\n",
        "  correct = 0\n",
        "  for i in range(len(x_test)):\n",
        "    inner_prod = (sum(np.append([1], x_test[i]) * w))\n",
        "\n",
        "    result = sigmoid(inner_prod)\n",
        "    if result >= 0.5 and y_test[i] == 1:\n",
        "      correct += 1\n",
        "    elif result < 0.5 and y_test[i] == -1:\n",
        "      correct += 1\n",
        "\n",
        "  accuracy = correct / len(x_test)\n",
        "\n",
        "  return accuracy"
      ]
    },
    {
      "cell_type": "code",
      "execution_count": 6,
      "metadata": {
        "colab": {
          "base_uri": "https://localhost:8080/"
        },
        "id": "S6Eak3J9oup9",
        "outputId": "c04893b8-fc8f-45de-a363-633198823985"
      },
      "outputs": [
        {
          "ename": "NameError",
          "evalue": "name 'x_train' is not defined",
          "output_type": "error",
          "traceback": [
            "\u001b[0;31m---------------------------------------------------------------------------\u001b[0m",
            "\u001b[0;31mNameError\u001b[0m                                 Traceback (most recent call last)",
            "Cell \u001b[0;32mIn[6], line 7\u001b[0m\n\u001b[1;32m      4\u001b[0m num_iter \u001b[39m=\u001b[39m \u001b[39m1\u001b[39m\n\u001b[1;32m      6\u001b[0m \u001b[39m## test and train\u001b[39;00m\n\u001b[0;32m----> 7\u001b[0m w \u001b[39m=\u001b[39m he_train(x_train, y_train, block_size, learning_rate, num_iter)\n\u001b[1;32m      8\u001b[0m accuracy \u001b[39m=\u001b[39m he_test(x_test, y_test, w, sigmoid_approx)\n\u001b[1;32m     10\u001b[0m \u001b[39mprint\u001b[39m()\n",
            "\u001b[0;31mNameError\u001b[0m: name 'x_train' is not defined"
          ]
        }
      ],
      "source": [
        "## parameters\n",
        "learning_rate = 1\n",
        "block_size = 1024\n",
        "num_iter = 1\n",
        "\n",
        "## test and train\n",
        "w = he_train(x_train, y_train, block_size, learning_rate, num_iter)\n",
        "accuracy = he_test(x_test, y_test, w, sigmoid_approx)\n",
        "\n",
        "print()\n",
        "print('HE version')\n",
        "print(f'Iteration                       : {num_iter}')\n",
        "print(f'Accuracy                        : {accuracy}')"
      ]
    },
    {
      "cell_type": "code",
      "execution_count": 4,
      "metadata": {},
      "outputs": [
        {
          "name": "stdout",
          "output_type": "stream",
          "text": [
            "(11982, 196)\n",
            "(11982,)\n",
            "(1984, 196)\n",
            "(1984,)\n"
          ]
        }
      ],
      "source": [
        "train = np.loadtxt('./data/train.csv', delimiter=',')\n",
        "test = np.loadtxt('./data/test.csv', delimiter=',')\n",
        "\n",
        "## get x and normalize\n",
        "x_train = np.array([x[1:] / max(x[1:]) for x in train])\n",
        "x_test = np.array([x[1:] / max(x[1:]) for x in test])\n",
        "\n",
        "## get label\n",
        "y_train = np.array([2*x[0]-1 for x in train])\n",
        "y_test = np.array([2*x[0]-1 for x in test])\n",
        "\n",
        "print(x_train.shape)\n",
        "print(y_train.shape)\n",
        "print(x_test.shape)\n",
        "print(y_test.shape)"
      ]
    },
    {
      "cell_type": "code",
      "execution_count": 5,
      "metadata": {
        "id": "OICeA6Qaz698"
      },
      "outputs": [],
      "source": [
        "def he_newdata_train(x_train, y_train, block_size, learning_rate, num_iter):\n",
        "  V = np.zeros((block_size, 196 + 1), dtype=np.float64)\n",
        "  W = np.zeros((block_size, 196 + 1), dtype=np.float64)\n",
        "\n",
        "  Z = np.column_stack((np.ones(len(x_train)), x_train))\n",
        "  Z = [y_train[i] * Z[i] for i in range(len(x_train))]    # y_i, y_i * z_{i,1}, ..., y_i * z_{i,f}   \n",
        "  # random.shuffle(Z)\n",
        "  Z = np.array(Z[:block_size])\n",
        "\n",
        "  c0 = 0.5 \n",
        "  c1 = -0.0843\n",
        "  c3 = 0.0002\n",
        "  \n",
        "  alpha0 = 0.01\n",
        "  alpha1 = (1 + math.sqrt(1 + 4 * alpha0 * alpha0)) / 2\n",
        "\n",
        "  gamma = learning_rate / block_size\n",
        "\n",
        "  for iter in range(num_iter):\n",
        "    print()\n",
        "    print(f'Iteration {iter}')\n",
        "\n",
        "    eta = (1 - alpha0) / alpha1\n",
        "\n",
        "    ## depth 1\n",
        "    M = Z * V\n",
        "    Z1 = gamma * c0 * Z\n",
        "    Z3 = gamma * c3 * Z\n",
        "    \n",
        "    ## depth 2\n",
        "    ## M = SumColVec(M)\n",
        "    for i in range(block_size):\n",
        "      inner_sum = sum(M[i])\n",
        "      for j in range(len(M[i])):\n",
        "        M[i][j] = inner_sum\n",
        "\n",
        "    id = 0\n",
        "    ## depth 3\n",
        "    M1 = M * Z3\n",
        "    M2 = M*M + c1/c3\n",
        "    # print(\"M: \", M[0][id])\n",
        "    # print(\"M1: \", M1[0][id])\n",
        "    # print(\"M2: \", M2[0][id])\n",
        "\n",
        "    ## depth 4\n",
        "    G = M1 * M2 + Z1\n",
        "    print(\"G: \", G[0][id])\n",
        "    \n",
        "    ## new_W = V + SumRowVec(G)\n",
        "    sum_row = np.zeros(196 + 1, dtype=np.float64)\n",
        "    for i in range(block_size):\n",
        "      sum_row = sum_row + G[i]\n",
        "    for i in range(block_size):\n",
        "      G[i] = sum_row\n",
        "    new_W = V + G\n",
        "    print(\"V: \", V[0][0])\n",
        "    print(\"SumRowVec G: \", G[0][id])\n",
        "    \n",
        "    ## depth 5\n",
        "    new_V = (1 - eta) * new_W + eta * W\n",
        "    \n",
        "    ## update\n",
        "    W = new_W\n",
        "    V = new_V\n",
        "    print(\"new W: \", W[0][id])\n",
        "    print(\"new V: \", V[0][id])\n",
        "    alpha0 = alpha1\n",
        "    alpha1 = (1 + math.sqrt(1 + 4 * alpha0 * alpha0)) / 2\n",
        "\n",
        "  return W[0]"
      ]
    },
    {
      "cell_type": "code",
      "execution_count": 6,
      "metadata": {
        "id": "0ZqZh8aj0RWP"
      },
      "outputs": [],
      "source": [
        "def he_newdata_test(x_test, y_test, w, sigmoid):\n",
        "  correct = 0\n",
        "  for i in range(len(x_test)):\n",
        "    inner_prod = (sum(np.append([1], x_test[i]) * w))\n",
        "\n",
        "    result = sigmoid(inner_prod)\n",
        "    if result >= 0.5 and y_test[i] == 1:\n",
        "      correct += 1\n",
        "    elif result < 0.5 and y_test[i] == -1:\n",
        "      correct += 1\n",
        "\n",
        "  accuracy = correct / len(x_test)\n",
        "\n",
        "  return accuracy"
      ]
    },
    {
      "cell_type": "code",
      "execution_count": 7,
      "metadata": {
        "id": "DVgFyDj_0T3s"
      },
      "outputs": [
        {
          "name": "stdout",
          "output_type": "stream",
          "text": [
            "\n",
            "Iteration 0\n",
            "G:  -0.00048828125\n",
            "V:  0.0\n",
            "SumRowVec G:  -0.015625\n",
            "new W:  -0.015625\n",
            "new V:  -0.0001577965657023235\n",
            "\n",
            "Iteration 1\n",
            "G:  -0.00048802141446741817\n",
            "V:  -0.0001577965657023235\n",
            "SumRowVec G:  -0.015544253885514274\n",
            "new W:  -0.015702050451216597\n",
            "new V:  -0.015702055212457093\n",
            "\n",
            "Iteration 2\n",
            "G:  -0.00046240260589663066\n",
            "V:  -0.015702055212457093\n",
            "SumRowVec G:  -0.0076386509420008205\n",
            "new W:  -0.023340706154457914\n",
            "new V:  -0.025493151922178152\n",
            "\n",
            "Iteration 3\n",
            "G:  -0.0004426366496003497\n",
            "V:  -0.025493151922178152\n",
            "SumRowVec G:  -0.007559727637784428\n",
            "new W:  -0.033052879559962584\n",
            "new V:  -0.037268552408172256\n",
            "\n",
            "Iteration 4\n",
            "G:  -0.00041871966505637663\n",
            "V:  -0.037268552408172256\n",
            "SumRowVec G:  -0.007098303115381191\n",
            "new W:  -0.04436685552355345\n",
            "new V:  -0.050375435251212394\n",
            "\n",
            "HE version\n",
            "Iteration                       : 5\n",
            "Accuracy                        : 0.9097782258064516\n"
          ]
        }
      ],
      "source": [
        "## parameters\n",
        "learning_rate = 1\n",
        "block_size = 1024\n",
        "num_iter = 5\n",
        "\n",
        "## test and train\n",
        "w = he_newdata_train(x_train, y_train, block_size, learning_rate, num_iter)\n",
        "accuracy = he_newdata_test(x_test, y_test, w, sigmoid_approx)\n",
        "\n",
        "print()\n",
        "print('HE version')\n",
        "print(f'Iteration                       : {num_iter}')\n",
        "print(f'Accuracy                        : {accuracy}')"
      ]
    },
    {
      "cell_type": "code",
      "execution_count": null,
      "metadata": {},
      "outputs": [],
      "source": []
    }
  ],
  "metadata": {
    "colab": {
      "provenance": []
    },
    "kernelspec": {
      "display_name": "Python 3",
      "name": "python3"
    },
    "language_info": {
      "codemirror_mode": {
        "name": "ipython",
        "version": 3
      },
      "file_extension": ".py",
      "mimetype": "text/x-python",
      "name": "python",
      "nbconvert_exporter": "python",
      "pygments_lexer": "ipython3",
      "version": "3.10.6"
    }
  },
  "nbformat": 4,
  "nbformat_minor": 0
}
